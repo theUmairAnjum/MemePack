{
  "nbformat": 4,
  "nbformat_minor": 0,
  "metadata": {
    "colab": {
      "name": "xrdp.ipynb",
      "private_outputs": true,
      "provenance": [],
      "include_colab_link": true
    },
    "kernelspec": {
      "name": "python3",
      "display_name": "Python 3"
    },
    "language_info": {
      "name": "python"
    }
  },
  "cells": [
    {
      "cell_type": "markdown",
      "metadata": {
        "id": "view-in-github",
        "colab_type": "text"
      },
      "source": [
        "<a href=\"https://colab.research.google.com/github/theUmairAnjum/MemePack/blob/main/xrdp.ipynb\" target=\"_parent\"><img src=\"https://colab.research.google.com/assets/colab-badge.svg\" alt=\"Open In Colab\"/></a>"
      ]
    },
    {
      "cell_type": "code",
      "metadata": {
        "id": "t4yNp3KmLtZ6"
      },
      "source": [
        "#@title **Create User**\n",
        "import os\n",
        "username = \"akuhnet\" #@param {type:\"string\"}\n",
        "password = \"123456\" #@param {type:\"string\"}\n",
        "\n",
        "print(\"Creating User and Setting it up\")\n",
        "\n",
        "# Creat user\n",
        "os.system(f\"useradd -m {username}\")\n",
        "\n",
        "# Add user to sudo group\n",
        "os.system(f\"adduser {username} sudo\")\n",
        "\n",
        "# Set password user to 'root'\n",
        "os.system(f\"echo '{username}:{password}' | sudo chpasswd\")\n",
        "\n",
        "# Change default shell from sh to bash\n",
        "os.system(\"sed -i 's/\\/bin\\/sh/\\/bin\\/bash/g' /etc/passwd\")\n",
        "\n",
        "print(\"User Created and Configured\")"
      ],
      "execution_count": null,
      "outputs": []
    },
    {
      "cell_type": "code",
      "metadata": {
        "id": "B9qlI8Fr4nr1"
      },
      "source": [
        "#@title **Google Drive Mount**\n",
        "\n",
        "from google.colab import drive\n",
        "drive.mount('/content/drive')"
      ],
      "execution_count": null,
      "outputs": []
    },
    {
      "cell_type": "code",
      "metadata": {
        "id": "vk2qtOTGIFsQ"
      },
      "source": [
        "#@title **Start RDP**\n",
        "#@markdown UPDATE<br>\n",
        "#@markdown Connect with RDP<br><br>\n",
        "#@markdown [Ngrok Auth Token](https://dashboard.ngrok.com/get-started/2xUKB8M4E1f3Xg53RPhoHpxhrZP_3cWssSb1G2XFLRVUdKrNX)<br><br>\n",
        "#@markdown Other Free VPS\n",
        "#@markdown [akuh.net](https://www.akuh.net/)\n",
        "! wget -O xfce4.sh https://bit.ly/akuhnetxrdpcolab > /dev/null 2>&1\n",
        "! chmod +x xfce4.sh\n",
        "! ./xfce4.sh"
      ],
      "execution_count": null,
      "outputs": []
    }
  ]
}